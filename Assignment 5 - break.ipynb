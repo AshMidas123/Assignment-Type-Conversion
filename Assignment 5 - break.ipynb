{
 "cells": [
  {
   "cell_type": "markdown",
   "id": "fd7fd9f9-5110-4b83-a614-8d545d0f43d4",
   "metadata": {},
   "source": [
    "Print numbers from 1 to 10, stop at 5"
   ]
  },
  {
   "cell_type": "code",
   "execution_count": 1,
   "id": "ae2af39d-d34b-43ad-85e0-9483a24aacb7",
   "metadata": {},
   "outputs": [
    {
     "name": "stdout",
     "output_type": "stream",
     "text": [
      "1\n",
      "2\n",
      "3\n",
      "4\n"
     ]
    }
   ],
   "source": [
    "for i in range(1,10):\n",
    "    print(i)\n",
    "    i+=1\n",
    "    if i==5:\n",
    "        break"
   ]
  },
  {
   "cell_type": "markdown",
   "id": "e7b5d47d-2bcd-487b-a289-2ff7b2d3b09b",
   "metadata": {},
   "source": [
    "Iterate through a list and stop at a specific element."
   ]
  },
  {
   "cell_type": "code",
   "execution_count": 2,
   "id": "284301e5-9f24-45a7-a093-e3afd907b7a2",
   "metadata": {},
   "outputs": [
    {
     "name": "stdout",
     "output_type": "stream",
     "text": [
      "car\n",
      "bike\n",
      "Specific element encountered\n"
     ]
    }
   ],
   "source": [
    "list_samp = ['car', 'bike', 'auto', 'flight']\n",
    "stop_ = 'auto'\n",
    "\n",
    "for i in list_samp:\n",
    "    if i == stop_:\n",
    "        print(\"Specific element encountered\")\n",
    "        break\n",
    "    else:\n",
    "        print(i)"
   ]
  },
  {
   "cell_type": "markdown",
   "id": "9b0cce32-d4a1-4af4-adc5-c29d0fbd29cb",
   "metadata": {},
   "source": [
    "Skip even numbers from 1 to 10"
   ]
  },
  {
   "cell_type": "code",
   "execution_count": 3,
   "id": "448e69f2-9688-4ee0-bd50-0eb488280163",
   "metadata": {},
   "outputs": [
    {
     "name": "stdout",
     "output_type": "stream",
     "text": [
      "1\n",
      "3\n",
      "5\n",
      "7\n",
      "9\n"
     ]
    }
   ],
   "source": [
    "for i in range(1,10):\n",
    "    if i%2!=0:\n",
    "        print(i)"
   ]
  },
  {
   "cell_type": "markdown",
   "id": "d49e6339-81ad-46e9-935b-467948459dfe",
   "metadata": {},
   "source": [
    "Print from 0 to 9 using range"
   ]
  },
  {
   "cell_type": "code",
   "execution_count": 4,
   "id": "8591923e-c732-4bc2-9d50-8e269b028512",
   "metadata": {},
   "outputs": [
    {
     "name": "stdout",
     "output_type": "stream",
     "text": [
      "0\n",
      "1\n",
      "2\n",
      "3\n",
      "4\n",
      "5\n",
      "6\n",
      "7\n",
      "8\n",
      "9\n"
     ]
    }
   ],
   "source": [
    "for i in range(10):\n",
    "    print(i)"
   ]
  },
  {
   "cell_type": "markdown",
   "id": "0a60c166-9147-4fc9-b912-2e835c45b6c4",
   "metadata": {},
   "source": [
    "Multiplication table from 1 to 5, stop after first table for each number."
   ]
  },
  {
   "cell_type": "code",
   "execution_count": 5,
   "id": "71643c55-693d-4d59-84a4-2088c92944a3",
   "metadata": {},
   "outputs": [
    {
     "name": "stdout",
     "output_type": "stream",
     "text": [
      "1  x  1  =  1\n",
      "2  x  1  =  2\n",
      "3  x  1  =  3\n",
      "4  x  1  =  4\n",
      "5  x  1  =  5\n"
     ]
    }
   ],
   "source": [
    "for i in range(1, 6):  \n",
    "    for j in range(1, 2): \n",
    "        print(i,\" x \",j,\" = \",i*j)"
   ]
  },
  {
   "cell_type": "code",
   "execution_count": 6,
   "id": "68976725-09c7-436e-9978-5da53b3e29fa",
   "metadata": {},
   "outputs": [
    {
     "name": "stdout",
     "output_type": "stream",
     "text": [
      "1\n",
      "3\n",
      "5\n",
      "7\n",
      "9\n"
     ]
    }
   ],
   "source": [
    "num = 1\n",
    "\n",
    "while num <= 10:\n",
    "    if num % 2 == 0:\n",
    "        num += 1\n",
    "        continue\n",
    "    print(num)\n",
    "    num += 1\n"
   ]
  },
  {
   "cell_type": "code",
   "execution_count": null,
   "id": "673ce63e-df48-4705-a6d6-34b64ebca64c",
   "metadata": {},
   "outputs": [],
   "source": []
  }
 ],
 "metadata": {
  "kernelspec": {
   "display_name": "Python 3 (ipykernel)",
   "language": "python",
   "name": "python3"
  },
  "language_info": {
   "codemirror_mode": {
    "name": "ipython",
    "version": 3
   },
   "file_extension": ".py",
   "mimetype": "text/x-python",
   "name": "python",
   "nbconvert_exporter": "python",
   "pygments_lexer": "ipython3",
   "version": "3.10.8"
  }
 },
 "nbformat": 4,
 "nbformat_minor": 5
}
