{
 "cells": [
  {
   "cell_type": "markdown",
   "id": "1879b1e3-386a-42f2-9e4b-f2b3ef876093",
   "metadata": {},
   "source": [
    "Significance of Python Keywords"
   ]
  },
  {
   "cell_type": "markdown",
   "id": "d57ec529-fe3d-489e-b963-422645280ea1",
   "metadata": {},
   "source": [
    "Keywords in python are a set of predefined words which have unique meanings and cannot be used anywhere else. \n",
    "They are reserved and cannot be used as a variable or identifier name."
   ]
  },
  {
   "cell_type": "code",
   "execution_count": 1,
   "id": "f3332a0b-f9c0-4b58-9934-3464e925c2f2",
   "metadata": {},
   "outputs": [
    {
     "name": "stdout",
     "output_type": "stream",
     "text": [
      "X is greater than 15\n"
     ]
    }
   ],
   "source": [
    "x = 19 #if, elif, else\n",
    "if x < 15:\n",
    "    print(\"X is lesser\")\n",
    "elif x == 0:\n",
    "    print (\"X is 0\")\n",
    "else:\n",
    "    print(\"X is greater than 15\")"
   ]
  },
  {
   "cell_type": "code",
   "execution_count": 2,
   "id": "eb50f92c-7a2a-4ece-9806-7f99c3510d42",
   "metadata": {},
   "outputs": [
    {
     "name": "stdout",
     "output_type": "stream",
     "text": [
      "1\n",
      "2\n",
      "3\n"
     ]
    }
   ],
   "source": [
    "a = [1,2,3] #for loop\n",
    "for i in a:\n",
    "    print(i)"
   ]
  },
  {
   "cell_type": "code",
   "execution_count": 3,
   "id": "201c694f-e583-4ad7-89b5-fa118b80830a",
   "metadata": {},
   "outputs": [
    {
     "name": "stdout",
     "output_type": "stream",
     "text": [
      "1\n",
      "2\n",
      "3\n",
      "4\n",
      "5\n"
     ]
    }
   ],
   "source": [
    "count = 6 #while loop\n",
    "j = 1\n",
    "while j<count:\n",
    "    print(j)\n",
    "    j+=1\n"
   ]
  },
  {
   "cell_type": "code",
   "execution_count": 4,
   "id": "b71f72e7-9c35-4df6-b20b-a298f6e2e6b4",
   "metadata": {},
   "outputs": [
    {
     "name": "stdout",
     "output_type": "stream",
     "text": [
      "0\n",
      "1\n",
      "2\n",
      "3\n"
     ]
    }
   ],
   "source": [
    "for i in range(10): #break\n",
    "    print(i)\n",
    "    i+=1\n",
    "    if i==4:\n",
    "        break"
   ]
  },
  {
   "cell_type": "code",
   "execution_count": 5,
   "id": "a9b42c6d-a4ca-4e51-8aae-671e2d59028e",
   "metadata": {},
   "outputs": [
    {
     "name": "stdout",
     "output_type": "stream",
     "text": [
      "Define keyword\n"
     ]
    }
   ],
   "source": [
    "def keyw(): #define\n",
    "    print(\"Define keyword\")\n",
    "keyw()"
   ]
  },
  {
   "cell_type": "markdown",
   "id": "23e1b8c1-be1e-49fd-b8c5-2455ae3a3f65",
   "metadata": {},
   "source": [
    "RULES FOR DEFINING IDENTIFIERS"
   ]
  },
  {
   "cell_type": "markdown",
   "id": "ed31ac4d-0270-430d-92b6-8f3dfc9e6803",
   "metadata": {},
   "source": [
    "1. Uppercase and lowecase letters can be used.\n",
    "2. Digits can be used.\n",
    "3. Keywords cannot be used as identifiers.\n",
    "4. First character can be a letter or an underscore.\n",
    "5. Python is case sensitive and there is no character limit."
   ]
  },
  {
   "cell_type": "code",
   "execution_count": 6,
   "id": "7ef23cb8-f0bc-4144-b836-f841c127f570",
   "metadata": {},
   "outputs": [
    {
     "name": "stdout",
     "output_type": "stream",
     "text": [
      "10\n",
      "8\n",
      "sample\n",
      "45.6\n"
     ]
    }
   ],
   "source": [
    "var1 = 10\n",
    "VAR1 = 8\n",
    "_var2 = \"sample\"\n",
    "var_val = 45.6\n",
    "\n",
    "print(var1)\n",
    "print(VAR1)\n",
    "print(_var2)\n",
    "print(var_val)"
   ]
  },
  {
   "cell_type": "markdown",
   "id": "e1c0c59b-67d5-469e-9b3b-14f1769081b4",
   "metadata": {},
   "source": [
    "COMMENTS IN PYTHON"
   ]
  },
  {
   "cell_type": "markdown",
   "id": "e202b1ca-bb1d-4f14-b136-4bddabd04300",
   "metadata": {},
   "source": [
    "Comments are identified by the \"#\" hash symbol.\n",
    "Strings mentioned in comments are not executed.\n",
    "Comments make the code more readable and understandable for all."
   ]
  },
  {
   "cell_type": "markdown",
   "id": "5c04db28-bdc5-4e0b-8bd3-f0eea8c32dc9",
   "metadata": {},
   "source": [
    "There are two types of comments - single line comment and multiline comment"
   ]
  },
  {
   "cell_type": "code",
   "execution_count": 7,
   "id": "1a86c0bf-5533-49d3-8fdd-057b5c9d4ca0",
   "metadata": {},
   "outputs": [
    {
     "name": "stdout",
     "output_type": "stream",
     "text": [
      "Multiplication: 20\n"
     ]
    }
   ],
   "source": [
    "#This is a single line comment\n",
    "\"\"\"This is a \n",
    "multiline comment\"\"\"\n",
    "\n",
    "#Carrying out a simple multiplication\n",
    "v1=10 \n",
    "v2=2\n",
    "print(\"Multiplication:\",v1*v2) #multiplication of 2 values"
   ]
  },
  {
   "cell_type": "markdown",
   "id": "1e4b2204-bb68-40bf-9fb7-2dc1a16281a6",
   "metadata": {},
   "source": [
    "INDENDATION IN PYTHON"
   ]
  },
  {
   "cell_type": "markdown",
   "id": "b8b59291-e66a-4893-93d4-042d8eaa9dd0",
   "metadata": {},
   "source": [
    "Indendation does not only make the code more presentable but it also an integral part of code. It is a way of conveying to the interpreter that a group of statements belong to a particular block of code. \n",
    "Indendation makes the code more readable, helps avoid errors, presents code in code blocks."
   ]
  },
  {
   "cell_type": "code",
   "execution_count": 8,
   "id": "704afb5b-8ba5-4b7b-9bc2-ef92506df7d9",
   "metadata": {},
   "outputs": [
    {
     "name": "stdout",
     "output_type": "stream",
     "text": [
      "10\n"
     ]
    }
   ],
   "source": [
    "p = 10\n",
    "if p>5:\n",
    "    print(p) #correct indendation"
   ]
  },
  {
   "cell_type": "markdown",
   "id": "6214a329-a972-4165-ab52-03ccc11b28a5",
   "metadata": {},
   "source": [
    "INCORRECT INDENDATION"
   ]
  },
  {
   "cell_type": "code",
   "execution_count": 9,
   "id": "a5cb26c1-0888-4b62-bd64-08e4edd770d5",
   "metadata": {},
   "outputs": [
    {
     "ename": "IndentationError",
     "evalue": "expected an indented block after 'if' statement on line 2 (856056070.py, line 3)",
     "output_type": "error",
     "traceback": [
      "\u001b[0;36m  Cell \u001b[0;32mIn[9], line 3\u001b[0;36m\u001b[0m\n\u001b[0;31m    print(l) #incorrect indendation\u001b[0m\n\u001b[0m    ^\u001b[0m\n\u001b[0;31mIndentationError\u001b[0m\u001b[0;31m:\u001b[0m expected an indented block after 'if' statement on line 2\n"
     ]
    }
   ],
   "source": [
    "l = 2\n",
    "if l==2:\n",
    "print(l) #incorrect indendation"
   ]
  },
  {
   "cell_type": "markdown",
   "id": "c4b8f20a-01ab-4a64-9732-82971d424ac6",
   "metadata": {},
   "source": [
    "Incorrect indentation dirupts the code flow and produces errors. It is a fundamental part of Python's syntax and semantics. In most cases, it produces a syntax error."
   ]
  },
  {
   "cell_type": "markdown",
   "id": "0fe3b1ac-c1a4-4922-8c86-89517952db91",
   "metadata": {},
   "source": [
    "DIFFERENCE BETWEEN Expression AND Statement"
   ]
  },
  {
   "cell_type": "markdown",
   "id": "43215d8e-617d-407e-abb5-0ede5c41437b",
   "metadata": {},
   "source": [
    "An expression is a set of word(s) that gives a value. It can be made up of variables, constants, operators and operands. Expressions are evaluated to produce a result.\n",
    "There are multiple types of expressions like arithmetic, constant, logical,etc. Expressions also follow a precedence order."
   ]
  },
  {
   "cell_type": "code",
   "execution_count": 10,
   "id": "e53617be-6020-4ed6-bea8-3cd2889536e8",
   "metadata": {},
   "outputs": [
    {
     "name": "stdout",
     "output_type": "stream",
     "text": [
      "25\n",
      "15\n",
      "100\n"
     ]
    }
   ],
   "source": [
    "s1= 20\n",
    "s2 = 5\n",
    "#arithmetic expressions\n",
    "add = s1+s2\n",
    "sub = s1-s2\n",
    "mul = s1*s2\n",
    "\n",
    "print(add)\n",
    "print(sub)\n",
    "print(mul)"
   ]
  },
  {
   "cell_type": "markdown",
   "id": "1b609003-b65d-4de3-afb3-553ef4b9b9f3",
   "metadata": {},
   "source": [
    "A statement is a complete line of instruction that performs an action.They are used to perform specific tasks. Statements are made up of expressions and can also include keywords, assignments, etc. Statements has types like Assignment statements, Conditional statements, Looping statements, etc."
   ]
  },
  {
   "cell_type": "code",
   "execution_count": 11,
   "id": "86c5b58b-7d33-4228-a54e-58750ef2159a",
   "metadata": {},
   "outputs": [
    {
     "name": "stdout",
     "output_type": "stream",
     "text": [
      "Greater number\n",
      "0\n",
      "1\n",
      "2\n"
     ]
    }
   ],
   "source": [
    "samp = 15 #assignment statement\n",
    "if samp > 10: #conditional statement\n",
    "    print(\"Greater number\")\n",
    "for i in range(3): #looping statement\n",
    "    print(i)"
   ]
  },
  {
   "cell_type": "code",
   "execution_count": null,
   "id": "126c79e0-164c-4083-9156-10586c7dc1e7",
   "metadata": {},
   "outputs": [],
   "source": []
  }
 ],
 "metadata": {
  "kernelspec": {
   "display_name": "Python 3 (ipykernel)",
   "language": "python",
   "name": "python3"
  },
  "language_info": {
   "codemirror_mode": {
    "name": "ipython",
    "version": 3
   },
   "file_extension": ".py",
   "mimetype": "text/x-python",
   "name": "python",
   "nbconvert_exporter": "python",
   "pygments_lexer": "ipython3",
   "version": "3.10.8"
  }
 },
 "nbformat": 4,
 "nbformat_minor": 5
}
