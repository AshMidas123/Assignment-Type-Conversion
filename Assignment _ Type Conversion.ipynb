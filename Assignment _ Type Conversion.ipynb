{
 "cells": [
  {
   "cell_type": "code",
   "execution_count": 1,
   "id": "afc04141-09dd-42ba-9716-af54c8e45ae7",
   "metadata": {},
   "outputs": [],
   "source": [
    "a = 10 #integer to float"
   ]
  },
  {
   "cell_type": "code",
   "execution_count": 2,
   "id": "1bec4078-ab80-4d57-835b-566e13e636d6",
   "metadata": {},
   "outputs": [
    {
     "data": {
      "text/plain": [
       "10"
      ]
     },
     "execution_count": 2,
     "metadata": {},
     "output_type": "execute_result"
    }
   ],
   "source": [
    "a"
   ]
  },
  {
   "cell_type": "code",
   "execution_count": 3,
   "id": "3ae05f2b-9b25-42dd-91f1-d87f85eb224a",
   "metadata": {},
   "outputs": [
    {
     "data": {
      "text/plain": [
       "int"
      ]
     },
     "execution_count": 3,
     "metadata": {},
     "output_type": "execute_result"
    }
   ],
   "source": [
    "type(a)"
   ]
  },
  {
   "cell_type": "code",
   "execution_count": 4,
   "id": "a948705a-11d0-44b7-924f-c58cd700b38a",
   "metadata": {},
   "outputs": [
    {
     "data": {
      "text/plain": [
       "10.0"
      ]
     },
     "execution_count": 4,
     "metadata": {},
     "output_type": "execute_result"
    }
   ],
   "source": [
    "float(a)"
   ]
  },
  {
   "cell_type": "code",
   "execution_count": 5,
   "id": "6008c9a8-5083-4b4a-b562-09181a0fb47c",
   "metadata": {},
   "outputs": [],
   "source": [
    "b = 23.45 #float to integer"
   ]
  },
  {
   "cell_type": "code",
   "execution_count": 6,
   "id": "281916ba-3c91-419b-8fb5-4114ff7a47ac",
   "metadata": {},
   "outputs": [
    {
     "data": {
      "text/plain": [
       "float"
      ]
     },
     "execution_count": 6,
     "metadata": {},
     "output_type": "execute_result"
    }
   ],
   "source": [
    "type(b)"
   ]
  },
  {
   "cell_type": "code",
   "execution_count": 7,
   "id": "c61343c6-efe6-4b61-a2cc-64f9b7206714",
   "metadata": {},
   "outputs": [
    {
     "data": {
      "text/plain": [
       "23"
      ]
     },
     "execution_count": 7,
     "metadata": {},
     "output_type": "execute_result"
    }
   ],
   "source": [
    "int(b)"
   ]
  },
  {
   "cell_type": "code",
   "execution_count": 8,
   "id": "a3da6255-2ee8-473e-abd8-d4b36a10f3d5",
   "metadata": {},
   "outputs": [],
   "source": [
    "c = 45 #integer to string"
   ]
  },
  {
   "cell_type": "code",
   "execution_count": 9,
   "id": "3b85deea-ba85-43c6-b689-fbfb7441d077",
   "metadata": {},
   "outputs": [
    {
     "data": {
      "text/plain": [
       "int"
      ]
     },
     "execution_count": 9,
     "metadata": {},
     "output_type": "execute_result"
    }
   ],
   "source": [
    "type(c)"
   ]
  },
  {
   "cell_type": "code",
   "execution_count": 10,
   "id": "ef29c32f-d842-44a5-9e16-b1b9454ffba9",
   "metadata": {},
   "outputs": [
    {
     "data": {
      "text/plain": [
       "'45'"
      ]
     },
     "execution_count": 10,
     "metadata": {},
     "output_type": "execute_result"
    }
   ],
   "source": [
    "str(c)"
   ]
  },
  {
   "cell_type": "code",
   "execution_count": 11,
   "id": "647d251f-58a7-4af3-bb76-be29e089eba1",
   "metadata": {},
   "outputs": [],
   "source": [
    "list1 = [\"sample\", 1, 2.2] #list to tuple"
   ]
  },
  {
   "cell_type": "code",
   "execution_count": 12,
   "id": "34e307c5-6a55-48da-afa0-2426ba319635",
   "metadata": {},
   "outputs": [
    {
     "data": {
      "text/plain": [
       "list"
      ]
     },
     "execution_count": 12,
     "metadata": {},
     "output_type": "execute_result"
    }
   ],
   "source": [
    "type(list1)"
   ]
  },
  {
   "cell_type": "code",
   "execution_count": 13,
   "id": "53b082f1-e184-4e7e-bd23-391eee128ae3",
   "metadata": {},
   "outputs": [
    {
     "data": {
      "text/plain": [
       "('sample', 1, 2.2)"
      ]
     },
     "execution_count": 13,
     "metadata": {},
     "output_type": "execute_result"
    }
   ],
   "source": [
    "tuple(list1)"
   ]
  },
  {
   "cell_type": "code",
   "execution_count": 14,
   "id": "c99d8f5f-f742-46b3-a13a-53bed9355968",
   "metadata": {},
   "outputs": [],
   "source": [
    "tup = (4, 5.5) #tuple to list"
   ]
  },
  {
   "cell_type": "code",
   "execution_count": 15,
   "id": "dbab2c75-556e-42f1-bb23-867507ad5275",
   "metadata": {},
   "outputs": [
    {
     "data": {
      "text/plain": [
       "tuple"
      ]
     },
     "execution_count": 15,
     "metadata": {},
     "output_type": "execute_result"
    }
   ],
   "source": [
    "type(tup)"
   ]
  },
  {
   "cell_type": "code",
   "execution_count": 16,
   "id": "8eb599c2-bcc2-41c7-9a0f-baafbe196ce2",
   "metadata": {},
   "outputs": [
    {
     "data": {
      "text/plain": [
       "(4, 5.5)"
      ]
     },
     "execution_count": 16,
     "metadata": {},
     "output_type": "execute_result"
    }
   ],
   "source": [
    "tup\n"
   ]
  },
  {
   "cell_type": "code",
   "execution_count": 17,
   "id": "52f6cafe-42d0-4335-809a-e111c9a53e74",
   "metadata": {},
   "outputs": [
    {
     "data": {
      "text/plain": [
       "[4, 5.5]"
      ]
     },
     "execution_count": 17,
     "metadata": {},
     "output_type": "execute_result"
    }
   ],
   "source": [
    "list(tup)"
   ]
  },
  {
   "cell_type": "code",
   "execution_count": 18,
   "id": "ccb743f0-eae9-43bb-a0b4-f5c6035fa0db",
   "metadata": {},
   "outputs": [],
   "source": [
    "dec = 10 #decimal to binary"
   ]
  },
  {
   "cell_type": "code",
   "execution_count": 19,
   "id": "1f7379bf-f1a7-4fea-aa1c-648db4ebeae7",
   "metadata": {},
   "outputs": [
    {
     "data": {
      "text/plain": [
       "int"
      ]
     },
     "execution_count": 19,
     "metadata": {},
     "output_type": "execute_result"
    }
   ],
   "source": [
    "type(dec)"
   ]
  },
  {
   "cell_type": "code",
   "execution_count": 20,
   "id": "7530ae55-02a1-4623-bbd0-a72b3fca918c",
   "metadata": {},
   "outputs": [
    {
     "data": {
      "text/plain": [
       "'0b1010'"
      ]
     },
     "execution_count": 20,
     "metadata": {},
     "output_type": "execute_result"
    }
   ],
   "source": [
    "bin(dec)"
   ]
  },
  {
   "cell_type": "code",
   "execution_count": 21,
   "id": "233c3d85-65a7-4818-a57a-81f066b1f20b",
   "metadata": {},
   "outputs": [],
   "source": [
    "s = 1 #non zero number to boolean"
   ]
  },
  {
   "cell_type": "code",
   "execution_count": 22,
   "id": "3bc97e61-af08-457d-8912-41958321cc89",
   "metadata": {},
   "outputs": [
    {
     "data": {
      "text/plain": [
       "int"
      ]
     },
     "execution_count": 22,
     "metadata": {},
     "output_type": "execute_result"
    }
   ],
   "source": [
    "type(s)"
   ]
  },
  {
   "cell_type": "code",
   "execution_count": 23,
   "id": "4d3e1cad-d8f1-46b0-8d9d-e575f2aeec06",
   "metadata": {},
   "outputs": [
    {
     "data": {
      "text/plain": [
       "True"
      ]
     },
     "execution_count": 23,
     "metadata": {},
     "output_type": "execute_result"
    }
   ],
   "source": [
    "bool(s)"
   ]
  },
  {
   "cell_type": "code",
   "execution_count": null,
   "id": "aa677b6a-6a0a-4b25-9007-777e859ab39f",
   "metadata": {},
   "outputs": [],
   "source": []
  }
 ],
 "metadata": {
  "kernelspec": {
   "display_name": "Python 3 (ipykernel)",
   "language": "python",
   "name": "python3"
  },
  "language_info": {
   "codemirror_mode": {
    "name": "ipython",
    "version": 3
   },
   "file_extension": ".py",
   "mimetype": "text/x-python",
   "name": "python",
   "nbconvert_exporter": "python",
   "pygments_lexer": "ipython3",
   "version": "3.10.8"
  }
 },
 "nbformat": 4,
 "nbformat_minor": 5
}
