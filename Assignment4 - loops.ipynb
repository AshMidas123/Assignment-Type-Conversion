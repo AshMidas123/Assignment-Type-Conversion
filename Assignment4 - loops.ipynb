{
 "cells": [
  {
   "cell_type": "markdown",
   "id": "cd55126a-2f6e-45c8-8bf0-211e95d38be7",
   "metadata": {},
   "source": [
    "Print number from 1 to 5 using a while loop."
   ]
  },
  {
   "cell_type": "code",
   "execution_count": 1,
   "id": "59a50c3c-3cdf-40c1-88dd-c78a3b480450",
   "metadata": {},
   "outputs": [
    {
     "name": "stdout",
     "output_type": "stream",
     "text": [
      "1\n",
      "2\n",
      "3\n",
      "4\n",
      "5\n"
     ]
    }
   ],
   "source": [
    "i=1\n",
    "count=5\n",
    "while i<=count:\n",
    "    print(i)\n",
    "    i+=1"
   ]
  },
  {
   "cell_type": "markdown",
   "id": "52feb311-1775-477b-bedd-44d567b7af5c",
   "metadata": {},
   "source": [
    "Calculate the sum of numbers from 1 to 10 using a while loop."
   ]
  },
  {
   "cell_type": "code",
   "execution_count": 2,
   "id": "c40b901a-7cc0-47d5-81dc-b4f0d4a2f2e6",
   "metadata": {},
   "outputs": [
    {
     "name": "stdout",
     "output_type": "stream",
     "text": [
      "55\n"
     ]
    }
   ],
   "source": [
    "j=1\n",
    "count=10\n",
    "sum1=0\n",
    "while j<=count:\n",
    "    sum1+=j\n",
    "    j+=1\n",
    "    \n",
    "print(sum1)\n"
   ]
  },
  {
   "cell_type": "markdown",
   "id": "99c77d94-31d3-40bf-9d06-7a99958afedb",
   "metadata": {},
   "source": [
    "Factorial of a number using for loop"
   ]
  },
  {
   "cell_type": "code",
   "execution_count": 3,
   "id": "08c11468-7190-4b21-83b0-6b87d8a4b89c",
   "metadata": {},
   "outputs": [
    {
     "name": "stdin",
     "output_type": "stream",
     "text": [
      "Enter a number:  5\n"
     ]
    },
    {
     "name": "stdout",
     "output_type": "stream",
     "text": [
      "factorial for 5 is 120\n"
     ]
    }
   ],
   "source": [
    "number = int(input(\"Enter a number: \"))\n",
    "fact=1\n",
    "\n",
    "if number<0:\n",
    "    print(\"Factorial does not exist\")\n",
    "elif number==0:\n",
    "    print(\"Factorial of 0 is 1\")\n",
    "else:\n",
    "    for i in range(1,number+1):\n",
    "        fact=fact*i\n",
    "    print(\"factorial for\",number,\"is\",fact)"
   ]
  },
  {
   "cell_type": "markdown",
   "id": "5516c94d-f0be-4161-bf5b-7d4386687fe5",
   "metadata": {},
   "source": [
    "Number of vowels in a string"
   ]
  },
  {
   "cell_type": "code",
   "execution_count": 4,
   "id": "a4108373-f854-49e1-b53c-3ad78cace567",
   "metadata": {},
   "outputs": [
    {
     "name": "stdin",
     "output_type": "stream",
     "text": [
      "Enter the string:  Passive aggressive\n"
     ]
    },
    {
     "name": "stdout",
     "output_type": "stream",
     "text": [
      "Vowels count:  7\n"
     ]
    }
   ],
   "source": [
    "enter_string = str(input(\"Enter the string: \"))\n",
    "vowels = ['a','e','i','o','u','A','E','I','O','U']\n",
    "count = 0\n",
    "for i in enter_string:\n",
    "    if i in vowels:\n",
    "        count+=1\n",
    "print(\"Vowels count: \",count)\n",
    "        "
   ]
  },
  {
   "cell_type": "markdown",
   "id": "1d992da9-fca6-4029-b322-ba00dcdbfa49",
   "metadata": {},
   "source": [
    "Printing a pattern using Nested loops"
   ]
  },
  {
   "cell_type": "code",
   "execution_count": 5,
   "id": "c605ff57-c155-4e2e-a927-5bd76c0db522",
   "metadata": {},
   "outputs": [
    {
     "name": "stdin",
     "output_type": "stream",
     "text": [
      "Enter the number of rows:  6\n"
     ]
    },
    {
     "name": "stdout",
     "output_type": "stream",
     "text": [
      "\n",
      "* \n",
      "* * \n",
      "* * * \n",
      "* * * * \n",
      "* * * * * \n"
     ]
    }
   ],
   "source": [
    "rows = int(input(\"Enter the number of rows: \"))\n",
    "for i in range(rows):\n",
    "    for j in range(i):\n",
    "        print(\"*\", end=' ')\n",
    "    print('')\n"
   ]
  },
  {
   "cell_type": "markdown",
   "id": "3f199d48-ae18-4070-8299-f718d08ae709",
   "metadata": {},
   "source": [
    "Generate a multiplication table using nested loops"
   ]
  },
  {
   "cell_type": "code",
   "execution_count": 7,
   "id": "c3f275d4-e80d-42a4-b9b0-7f8141e88b1b",
   "metadata": {},
   "outputs": [
    {
     "name": "stdin",
     "output_type": "stream",
     "text": [
      "Enter value1:  2\n",
      "Enter value2:  3\n"
     ]
    },
    {
     "name": "stdout",
     "output_type": "stream",
     "text": [
      "2 * 1 = 2\n",
      "2 * 2 = 4\n",
      "2 * 3 = 6\n",
      "2 * 4 = 8\n",
      "2 * 5 = 10\n",
      "2 * 6 = 12\n",
      "2 * 7 = 14\n",
      "2 * 8 = 16\n",
      "2 * 9 = 18\n",
      "2 * 10 = 20\n",
      "\n",
      "3 * 1 = 3\n",
      "3 * 2 = 6\n",
      "3 * 3 = 9\n",
      "3 * 4 = 12\n",
      "3 * 5 = 15\n",
      "3 * 6 = 18\n",
      "3 * 7 = 21\n",
      "3 * 8 = 24\n",
      "3 * 9 = 27\n",
      "3 * 10 = 30\n",
      "\n"
     ]
    }
   ],
   "source": [
    "val1 = int(input(\"Enter value1: \"))\n",
    "val2 = int(input(\"Enter value2: \"))\n",
    " \n",
    "for i in range(val1, val2+1):\n",
    " \n",
    "    for j in range(1, 11):\n",
    " \n",
    "        print(i, \"*\", j, \"=\", i*j)\n",
    "  \n",
    "    print()"
   ]
  },
  {
   "cell_type": "code",
   "execution_count": null,
   "id": "195639de-c791-40dd-b233-3e80f8c0854e",
   "metadata": {},
   "outputs": [],
   "source": []
  }
 ],
 "metadata": {
  "kernelspec": {
   "display_name": "Python 3 (ipykernel)",
   "language": "python",
   "name": "python3"
  },
  "language_info": {
   "codemirror_mode": {
    "name": "ipython",
    "version": 3
   },
   "file_extension": ".py",
   "mimetype": "text/x-python",
   "name": "python",
   "nbconvert_exporter": "python",
   "pygments_lexer": "ipython3",
   "version": "3.10.8"
  }
 },
 "nbformat": 4,
 "nbformat_minor": 5
}
