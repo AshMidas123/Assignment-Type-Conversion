{
 "cells": [
  {
   "cell_type": "markdown",
   "id": "c83fa6c0-1a64-407c-bc01-507d1da7458c",
   "metadata": {},
   "source": [
    "BASIC CALCULATION"
   ]
  },
  {
   "cell_type": "code",
   "execution_count": 1,
   "id": "30140107-f56a-4756-9c92-df0fde5cdb58",
   "metadata": {},
   "outputs": [],
   "source": [
    "a = 10\n",
    "b = 2"
   ]
  },
  {
   "cell_type": "code",
   "execution_count": 2,
   "id": "ec689bb8-cac8-47be-ab5f-28e7a92c2815",
   "metadata": {},
   "outputs": [
    {
     "data": {
      "text/plain": [
       "12"
      ]
     },
     "execution_count": 2,
     "metadata": {},
     "output_type": "execute_result"
    }
   ],
   "source": [
    "a+b  #addition"
   ]
  },
  {
   "cell_type": "code",
   "execution_count": 3,
   "id": "19b10b85-f9b4-4dc4-81a1-edb10fc668c1",
   "metadata": {},
   "outputs": [
    {
     "data": {
      "text/plain": [
       "8"
      ]
     },
     "execution_count": 3,
     "metadata": {},
     "output_type": "execute_result"
    }
   ],
   "source": [
    "a-b #subtraction"
   ]
  },
  {
   "cell_type": "code",
   "execution_count": 4,
   "id": "8e8582a4-86b7-47e0-a6de-93a7f6c63d2a",
   "metadata": {},
   "outputs": [
    {
     "data": {
      "text/plain": [
       "5.0"
      ]
     },
     "execution_count": 4,
     "metadata": {},
     "output_type": "execute_result"
    }
   ],
   "source": [
    "a/b #division"
   ]
  },
  {
   "cell_type": "code",
   "execution_count": 5,
   "id": "c8997953-e8fe-463b-93e7-c1375b6561be",
   "metadata": {},
   "outputs": [
    {
     "data": {
      "text/plain": [
       "20"
      ]
     },
     "execution_count": 5,
     "metadata": {},
     "output_type": "execute_result"
    }
   ],
   "source": [
    "a*b #multiplication"
   ]
  },
  {
   "cell_type": "markdown",
   "id": "dd007319-1dc3-4a6d-bde7-9f125c7d03f1",
   "metadata": {},
   "source": [
    "ASSIGNMENT OPERATIONS"
   ]
  },
  {
   "cell_type": "code",
   "execution_count": 6,
   "id": "9feb0807-9a63-4ffa-9657-d22e8ca3546b",
   "metadata": {},
   "outputs": [],
   "source": [
    "sample = 100 #assignment operations"
   ]
  },
  {
   "cell_type": "code",
   "execution_count": 7,
   "id": "e252794f-e436-4970-92ab-34e00b9f5e0e",
   "metadata": {},
   "outputs": [],
   "source": [
    "sample += 10 #addition assignment"
   ]
  },
  {
   "cell_type": "code",
   "execution_count": 8,
   "id": "0bba7662-5af9-4815-9325-ff7c8fdb5775",
   "metadata": {},
   "outputs": [
    {
     "data": {
      "text/plain": [
       "110"
      ]
     },
     "execution_count": 8,
     "metadata": {},
     "output_type": "execute_result"
    }
   ],
   "source": [
    "sample"
   ]
  },
  {
   "cell_type": "code",
   "execution_count": 9,
   "id": "be20f7d4-b5d8-473d-ae52-00cff5c39b0a",
   "metadata": {},
   "outputs": [],
   "source": [
    "sample -= 10 #subtraction assignment"
   ]
  },
  {
   "cell_type": "code",
   "execution_count": 10,
   "id": "18813eee-afbc-458a-86cb-d79bb481bb28",
   "metadata": {},
   "outputs": [
    {
     "data": {
      "text/plain": [
       "100"
      ]
     },
     "execution_count": 10,
     "metadata": {},
     "output_type": "execute_result"
    }
   ],
   "source": [
    "sample"
   ]
  },
  {
   "cell_type": "code",
   "execution_count": 11,
   "id": "e973cb46-9813-4e3f-9c2b-327f21277350",
   "metadata": {},
   "outputs": [],
   "source": [
    "sample *= 2 #multiplication assignment"
   ]
  },
  {
   "cell_type": "code",
   "execution_count": 12,
   "id": "bf7eb468-b268-4b32-830e-f285a07ac733",
   "metadata": {},
   "outputs": [
    {
     "data": {
      "text/plain": [
       "200"
      ]
     },
     "execution_count": 12,
     "metadata": {},
     "output_type": "execute_result"
    }
   ],
   "source": [
    "sample"
   ]
  },
  {
   "cell_type": "code",
   "execution_count": 13,
   "id": "58c940f9-0f59-4717-92af-158f5c298110",
   "metadata": {},
   "outputs": [],
   "source": [
    "sample /= 4 #division assignment"
   ]
  },
  {
   "cell_type": "code",
   "execution_count": 14,
   "id": "fc8f0b7a-6b53-4f42-b7fa-8c8b2c435502",
   "metadata": {},
   "outputs": [
    {
     "data": {
      "text/plain": [
       "50.0"
      ]
     },
     "execution_count": 14,
     "metadata": {},
     "output_type": "execute_result"
    }
   ],
   "source": [
    "sample"
   ]
  },
  {
   "cell_type": "code",
   "execution_count": 15,
   "id": "c8134fa1-2acb-49cd-8b15-d170783e9d66",
   "metadata": {},
   "outputs": [],
   "source": [
    "sample %= 2 #modulus assignment"
   ]
  },
  {
   "cell_type": "code",
   "execution_count": 16,
   "id": "5d768177-1faa-416a-96dd-e2ad57ef005e",
   "metadata": {},
   "outputs": [
    {
     "data": {
      "text/plain": [
       "0.0"
      ]
     },
     "execution_count": 16,
     "metadata": {},
     "output_type": "execute_result"
    }
   ],
   "source": [
    "sample"
   ]
  },
  {
   "cell_type": "code",
   "execution_count": 17,
   "id": "b0ef8873-a7a5-4b96-a824-b025d82c2fdc",
   "metadata": {},
   "outputs": [],
   "source": [
    "sample2 = 50"
   ]
  },
  {
   "cell_type": "code",
   "execution_count": 18,
   "id": "f1d3dac9-6c2d-4a62-bb39-6955ed4a59c5",
   "metadata": {},
   "outputs": [],
   "source": [
    "sample2//= 3 #floor assignment"
   ]
  },
  {
   "cell_type": "code",
   "execution_count": 19,
   "id": "466c8330-f30e-467c-870b-d45b9e8a11d6",
   "metadata": {},
   "outputs": [
    {
     "data": {
      "text/plain": [
       "16"
      ]
     },
     "execution_count": 19,
     "metadata": {},
     "output_type": "execute_result"
    }
   ],
   "source": [
    "sample2"
   ]
  },
  {
   "cell_type": "code",
   "execution_count": 20,
   "id": "f60e0bf8-346d-4b91-92b3-ad3ef7b4e9ad",
   "metadata": {},
   "outputs": [],
   "source": [
    "sample2**= 2 #exponentiation assignment"
   ]
  },
  {
   "cell_type": "code",
   "execution_count": 21,
   "id": "e6cde17c-ba65-41b4-985f-d25af9a12c11",
   "metadata": {},
   "outputs": [
    {
     "data": {
      "text/plain": [
       "256"
      ]
     },
     "execution_count": 21,
     "metadata": {},
     "output_type": "execute_result"
    }
   ],
   "source": [
    "sample2"
   ]
  },
  {
   "cell_type": "markdown",
   "id": "ea3c817e-48dd-4ec2-80e5-c2c562efe2d6",
   "metadata": {},
   "source": [
    "COMPARISON OF TWO NUMBERS"
   ]
  },
  {
   "cell_type": "code",
   "execution_count": 22,
   "id": "5b683c0f-f657-4ab4-97f9-913f519a2afb",
   "metadata": {},
   "outputs": [],
   "source": [
    "num1 = 15\n",
    "num2 = 7"
   ]
  },
  {
   "cell_type": "code",
   "execution_count": 23,
   "id": "7c1699c7-6e87-4e97-b35a-3b143bdfbf0e",
   "metadata": {},
   "outputs": [
    {
     "data": {
      "text/plain": [
       "False"
      ]
     },
     "execution_count": 23,
     "metadata": {},
     "output_type": "execute_result"
    }
   ],
   "source": [
    "num1 == num2"
   ]
  },
  {
   "cell_type": "code",
   "execution_count": 24,
   "id": "e42a5683-2f5b-4356-8583-ae62ead88160",
   "metadata": {},
   "outputs": [
    {
     "data": {
      "text/plain": [
       "True"
      ]
     },
     "execution_count": 24,
     "metadata": {},
     "output_type": "execute_result"
    }
   ],
   "source": [
    "num1 > num2"
   ]
  },
  {
   "cell_type": "code",
   "execution_count": 25,
   "id": "04ab4e07-1913-412e-a69b-94655ee84972",
   "metadata": {},
   "outputs": [
    {
     "data": {
      "text/plain": [
       "False"
      ]
     },
     "execution_count": 25,
     "metadata": {},
     "output_type": "execute_result"
    }
   ],
   "source": [
    "num1 < num2"
   ]
  },
  {
   "cell_type": "code",
   "execution_count": 26,
   "id": "2aeb2631-38d4-4dc1-88af-f6a7de4a7b10",
   "metadata": {},
   "outputs": [
    {
     "data": {
      "text/plain": [
       "True"
      ]
     },
     "execution_count": 26,
     "metadata": {},
     "output_type": "execute_result"
    }
   ],
   "source": [
    "num1 >= num2"
   ]
  },
  {
   "cell_type": "code",
   "execution_count": 27,
   "id": "a7b0cda0-c6bf-4ce3-a90b-8467dc6bb519",
   "metadata": {},
   "outputs": [
    {
     "data": {
      "text/plain": [
       "False"
      ]
     },
     "execution_count": 27,
     "metadata": {},
     "output_type": "execute_result"
    }
   ],
   "source": [
    "num1 <= num2"
   ]
  },
  {
   "cell_type": "code",
   "execution_count": 28,
   "id": "f5ba7c30-ba4b-43b2-abf1-d80a327105b1",
   "metadata": {},
   "outputs": [
    {
     "data": {
      "text/plain": [
       "True"
      ]
     },
     "execution_count": 28,
     "metadata": {},
     "output_type": "execute_result"
    }
   ],
   "source": [
    "num1 != num2"
   ]
  },
  {
   "cell_type": "markdown",
   "id": "5d8282f6-f112-4680-bf03-dd3189164016",
   "metadata": {},
   "source": [
    "LOGICAL OPERATORS"
   ]
  },
  {
   "cell_type": "code",
   "execution_count": 29,
   "id": "1f5393ad-ff0f-44b3-ad94-d3a85ce6ed88",
   "metadata": {},
   "outputs": [],
   "source": [
    "x = 7\n",
    "y = 12"
   ]
  },
  {
   "cell_type": "code",
   "execution_count": 30,
   "id": "9d2fcb2e-afc9-4b48-b805-5b2e9356aabd",
   "metadata": {},
   "outputs": [
    {
     "data": {
      "text/plain": [
       "True"
      ]
     },
     "execution_count": 30,
     "metadata": {},
     "output_type": "execute_result"
    }
   ],
   "source": [
    "x < 10 and y > 10 #AND operator"
   ]
  },
  {
   "cell_type": "code",
   "execution_count": 31,
   "id": "e3a09c69-b91a-49ee-b37c-ceeb9e61dc8f",
   "metadata": {},
   "outputs": [
    {
     "data": {
      "text/plain": [
       "False"
      ]
     },
     "execution_count": 31,
     "metadata": {},
     "output_type": "execute_result"
    }
   ],
   "source": [
    "x < 10 and y < 10"
   ]
  },
  {
   "cell_type": "code",
   "execution_count": 32,
   "id": "9fa4a188-5629-4ea3-915c-1bbac53448b7",
   "metadata": {},
   "outputs": [
    {
     "data": {
      "text/plain": [
       "True"
      ]
     },
     "execution_count": 32,
     "metadata": {},
     "output_type": "execute_result"
    }
   ],
   "source": [
    "x < 10 or y < 10 #OR operator"
   ]
  },
  {
   "cell_type": "code",
   "execution_count": 33,
   "id": "c4183e52-75e0-4d09-9995-24e229169553",
   "metadata": {},
   "outputs": [
    {
     "data": {
      "text/plain": [
       "True"
      ]
     },
     "execution_count": 33,
     "metadata": {},
     "output_type": "execute_result"
    }
   ],
   "source": [
    "x < 7 or y > 10 "
   ]
  },
  {
   "cell_type": "code",
   "execution_count": 34,
   "id": "81ffcfc8-ac1a-4996-93a1-66a2434461de",
   "metadata": {},
   "outputs": [
    {
     "data": {
      "text/plain": [
       "True"
      ]
     },
     "execution_count": 34,
     "metadata": {},
     "output_type": "execute_result"
    }
   ],
   "source": [
    "not(x<7 and y>12) #NOT operator"
   ]
  },
  {
   "cell_type": "markdown",
   "id": "d62f7312-9f08-4cd3-9742-1442d5106518",
   "metadata": {},
   "source": [
    "IDENTITY OF VARIABLES"
   ]
  },
  {
   "cell_type": "code",
   "execution_count": 35,
   "id": "990030fd-1943-4728-93c1-bacd8ad64d48",
   "metadata": {},
   "outputs": [],
   "source": [
    "a = 10\n",
    "b = 43.6\n",
    "c = \"Hi\"\n",
    "d = ('A', 'B', 'C')"
   ]
  },
  {
   "cell_type": "code",
   "execution_count": 38,
   "id": "3ff5d32a-bfc3-4188-9706-ab6b527ff820",
   "metadata": {},
   "outputs": [
    {
     "name": "stdout",
     "output_type": "stream",
     "text": [
      "140364015960592\n",
      "140363966452656\n",
      "140363898520112\n",
      "140363898358208\n"
     ]
    }
   ],
   "source": [
    "print(id(a))\n",
    "print(id(b))\n",
    "print(id(c))\n",
    "print(id(d))"
   ]
  },
  {
   "cell_type": "markdown",
   "id": "9dd416b3-2e2b-405b-8966-c11ae2a49e9c",
   "metadata": {},
   "source": [
    "BITWISE OPERATIONS"
   ]
  },
  {
   "cell_type": "code",
   "execution_count": 39,
   "id": "c9d9b706-8bf8-47fc-9577-fe59f08121cc",
   "metadata": {},
   "outputs": [],
   "source": [
    "b1 = 18\n",
    "b2 = 45"
   ]
  },
  {
   "cell_type": "code",
   "execution_count": 40,
   "id": "0f1ebcb3-20c3-4cf8-bbd3-effd1510eb61",
   "metadata": {},
   "outputs": [
    {
     "data": {
      "text/plain": [
       "0"
      ]
     },
     "execution_count": 40,
     "metadata": {},
     "output_type": "execute_result"
    }
   ],
   "source": [
    "b1 & b2"
   ]
  },
  {
   "cell_type": "code",
   "execution_count": 41,
   "id": "ddc279b7-0ae6-40b4-b43f-2e0902dc7871",
   "metadata": {},
   "outputs": [
    {
     "data": {
      "text/plain": [
       "63"
      ]
     },
     "execution_count": 41,
     "metadata": {},
     "output_type": "execute_result"
    }
   ],
   "source": [
    "b1 | b2"
   ]
  },
  {
   "cell_type": "code",
   "execution_count": 42,
   "id": "4987dcd3-b4a0-4a49-9e9d-9826cb7cda82",
   "metadata": {},
   "outputs": [
    {
     "data": {
      "text/plain": [
       "63"
      ]
     },
     "execution_count": 42,
     "metadata": {},
     "output_type": "execute_result"
    }
   ],
   "source": [
    "b1 ^ b2"
   ]
  },
  {
   "cell_type": "code",
   "execution_count": 43,
   "id": "504a2629-ddb7-4ab3-a567-483f4bf0b031",
   "metadata": {},
   "outputs": [
    {
     "data": {
      "text/plain": [
       "-19"
      ]
     },
     "execution_count": 43,
     "metadata": {},
     "output_type": "execute_result"
    }
   ],
   "source": [
    "~b1"
   ]
  },
  {
   "cell_type": "code",
   "execution_count": 44,
   "id": "2b62ea17-f365-4efa-9337-cc664b13aef4",
   "metadata": {},
   "outputs": [
    {
     "data": {
      "text/plain": [
       "'0b10010'"
      ]
     },
     "execution_count": 44,
     "metadata": {},
     "output_type": "execute_result"
    }
   ],
   "source": [
    "bin(b1)"
   ]
  },
  {
   "cell_type": "code",
   "execution_count": 45,
   "id": "65d1df8f-dad8-4d0f-a328-4cb0fed96446",
   "metadata": {},
   "outputs": [
    {
     "data": {
      "text/plain": [
       "'0b101101'"
      ]
     },
     "execution_count": 45,
     "metadata": {},
     "output_type": "execute_result"
    }
   ],
   "source": [
    "bin(b2)"
   ]
  },
  {
   "cell_type": "markdown",
   "id": "442f358c-7257-41d9-8cdd-ff55ab55209d",
   "metadata": {},
   "source": [
    "UNARY OPERATORS"
   ]
  },
  {
   "cell_type": "code",
   "execution_count": 46,
   "id": "e8c7499b-dec0-4365-9ecb-a91c83a906eb",
   "metadata": {},
   "outputs": [],
   "source": [
    "u1 = 23\n",
    "u2 = -3"
   ]
  },
  {
   "cell_type": "code",
   "execution_count": 47,
   "id": "2d71fa50-261a-41d3-8c02-1d1a8dbe4d01",
   "metadata": {},
   "outputs": [
    {
     "data": {
      "text/plain": [
       "-23"
      ]
     },
     "execution_count": 47,
     "metadata": {},
     "output_type": "execute_result"
    }
   ],
   "source": [
    "-u1"
   ]
  },
  {
   "cell_type": "code",
   "execution_count": 48,
   "id": "d344a37f-3d0d-4e4a-bbff-c87b7769fa40",
   "metadata": {},
   "outputs": [
    {
     "data": {
      "text/plain": [
       "3"
      ]
     },
     "execution_count": 48,
     "metadata": {},
     "output_type": "execute_result"
    }
   ],
   "source": [
    "-u2"
   ]
  },
  {
   "cell_type": "markdown",
   "id": "f0c84653-d042-48dd-8ccc-6513908d91dc",
   "metadata": {},
   "source": [
    "TERNARY OPERATION"
   ]
  },
  {
   "cell_type": "code",
   "execution_count": 50,
   "id": "c283692f-6152-4696-bcd8-170c567c37ec",
   "metadata": {},
   "outputs": [],
   "source": [
    "t1 = 56\n",
    "t2 = 90"
   ]
  },
  {
   "cell_type": "code",
   "execution_count": 55,
   "id": "64eec348-c3f0-469f-9690-f6cae4b59810",
   "metadata": {},
   "outputs": [],
   "source": [
    "min = t1 if t1>t2 else t2"
   ]
  },
  {
   "cell_type": "code",
   "execution_count": 56,
   "id": "b7337567-2d42-41c4-a54c-abdb5d2aac35",
   "metadata": {},
   "outputs": [
    {
     "data": {
      "text/plain": [
       "90"
      ]
     },
     "execution_count": 56,
     "metadata": {},
     "output_type": "execute_result"
    }
   ],
   "source": [
    "min"
   ]
  },
  {
   "cell_type": "code",
   "execution_count": null,
   "id": "07493afd-9f00-4275-b0c4-33ad52533a2a",
   "metadata": {},
   "outputs": [],
   "source": []
  }
 ],
 "metadata": {
  "kernelspec": {
   "display_name": "Python 3 (ipykernel)",
   "language": "python",
   "name": "python3"
  },
  "language_info": {
   "codemirror_mode": {
    "name": "ipython",
    "version": 3
   },
   "file_extension": ".py",
   "mimetype": "text/x-python",
   "name": "python",
   "nbconvert_exporter": "python",
   "pygments_lexer": "ipython3",
   "version": "3.10.8"
  }
 },
 "nbformat": 4,
 "nbformat_minor": 5
}
